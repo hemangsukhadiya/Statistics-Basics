{
  "nbformat": 4,
  "nbformat_minor": 0,
  "metadata": {
    "colab": {
      "provenance": []
    },
    "kernelspec": {
      "name": "python3",
      "display_name": "Python 3"
    },
    "language_info": {
      "name": "python"
    }
  },
  "cells": [
    {
      "cell_type": "markdown",
      "source": [
        "1. What is statistics, and why is it important?\n",
        "\n",
        "Ans: Statistics provides methods for understanding and making sense of data.\n",
        "- It involves calculating measures of central tendency (like mean, median, and mode) and variability (like standard deviation and variance).\n",
        "- It helps in identifying patterns, trends, and relationships within data.\n",
        "- Statistics is used to design experiments, analyze data, and make informed decisions.\n",
        "- It's a foundation for data analytics and machine learning.\n",
        "\n",
        "Why is Statistics Important in Python?\n",
        "- Data Analysis: Python libraries like statistics and scipy.stats offer powerful tools for statistical analysis, enabling you to describe and summarize data.\n",
        "- Machine Learning: Statistical concepts and techniques are essential for building and evaluating machine learning models.\n",
        "- Data Visualization: Statistical insights are often communicated through visualizations, and Python libraries like matplotlib and seaborn facilitate creating insightful charts and graphs.\n",
        "- Hypothesis Testing: Python allows you to perform hypothesis tests to determine if observed differences or relationships in data are statistically significant.\n",
        "- Predictive Modeling: Statistical models, such as linear regression, can be implemented in Python to make predictions based on data.\n",
        "- Real-world Applications: Python's statistical capabilities are used in various fields, including finance, healthcare, marketing, and social sciences."
      ],
      "metadata": {
        "id": "zmBcT4abtruc"
      }
    },
    {
      "cell_type": "markdown",
      "source": [
        "2. What are the two main types of statistics?\n",
        "\n",
        "Ans:\n",
        "1. Descriptive Statistics:\n",
        "- Purpose: To summarize and describe the main features of a dataset.\n",
        "- Methods:\n",
        "1. Measures of Central Tendency: Mean, median, and mode.\n",
        "2. Measures of Dispersion: Range, variance, and standard deviation.\n",
        "3. Frequency Distributions: Tables and graphs that show how often different values occur.\n",
        "4. Graphical Representations: Histograms, scatterplots, and box plots.\n",
        "- Example: Calculating the average age of students in a class or creating a bar chart to show the distribution of exam scores.\n",
        "Inferential Statistics:\n",
        "- Purpose:\n",
        "To draw conclusions or make predictions about a larger population based on a sample of data.\n",
        "- Methods:\n",
        "1. Hypothesis Testing: Determining whether there's enough evidence to reject a null hypothesis.\n",
        "2. Confidence Intervals: Estimating the range in which a population parameter is likely to fall.\n",
        "3. Regression Analysis: Modeling the relationship between variables.\n",
        "- Example:\n",
        "Using a sample survey to estimate the percentage of voters who will vote for a particular candidate in an election."
      ],
      "metadata": {
        "id": "wOOrEQVCtrq-"
      }
    },
    {
      "cell_type": "markdown",
      "source": [
        "3. What are descriptive statistics?\n",
        "\n",
        "Ans: - Purpose: To summarize and describe the main features of a dataset.\n",
        "- Methods:\n",
        "1. Measures of Central Tendency: Mean, median, and mode.\n",
        "2. Measures of Dispersion: Range, variance, and standard deviation.\n",
        "3. Frequency Distributions: Tables and graphs that show how often different values occur.\n",
        "4. Graphical Representations: Histograms, scatterplots, and box plots.\n",
        "- Example: Calculating the average age of students in a class or creating a bar chart to show the distribution of exam scores."
      ],
      "metadata": {
        "id": "5njIlaRTtroX"
      }
    },
    {
      "cell_type": "markdown",
      "source": [
        "4. What is inferential statistics?\n",
        "\n",
        "Ans:- Purpose:\n",
        "To draw conclusions or make predictions about a larger population based on a sample of data.\n",
        "- Methods:\n",
        "1. Hypothesis Testing: Determining whether there's enough evidence to reject a null hypothesis.\n",
        "2. Confidence Intervals: Estimating the range in which a population parameter is likely to fall.\n",
        "3. Regression Analysis: Modeling the relationship between variables.\n",
        "- Example:\n",
        "Using a sample survey to estimate the percentage of voters who will vote for a particular candidate in an election."
      ],
      "metadata": {
        "id": "EepcqTUItrl4"
      }
    },
    {
      "cell_type": "markdown",
      "source": [
        "5. What is sampling in statistics?\n",
        "\n",
        "Ans: In statistics, sampling means selecting a smaller, manageable subset (the sample) from a larger group (the population) to gather information and make inferences about the entire population."
      ],
      "metadata": {
        "id": "xABl3fN1trjU"
      }
    },
    {
      "cell_type": "markdown",
      "source": [
        "6. What are the different types of sampling methods?\n",
        "\n",
        "Ans:\n",
        "1. Simple Random Sampling: Every member of the population has an equal chance of being selected.\n",
        "2. Stratified Sampling: The population is divided into subgroups (strata) based on shared characteristics, and then a random sample is taken from each stratum.\n",
        "3. Cluster Sampling: The population is divided into clusters, and a random sample of clusters is selected, with all members within the selected clusters being included in the sample.\n",
        "4. Systematic Sampling: Members are selected at regular intervals from a list or population.\n",
        "5. Multistage Sampling: Combines different probability sampling methods at different stages of the research."
      ],
      "metadata": {
        "id": "ahSEn8ODtrg1"
      }
    },
    {
      "cell_type": "markdown",
      "source": [
        "7. What is the difference between random and non-random sampling?\n",
        "\n",
        "Ans:\n",
        "- Random Sampling (Probability Sampling):\n",
        "- Definition:\n",
        "Every member of the population has a known, non-zero probability of being selected for the sample.\n",
        "- Selection:\n",
        "The selection process is based on random chance, using methods like random number generators or lottery systems.\n",
        "- Goal:\n",
        "To create a sample that is representative of the larger population, allowing researchers to generalize findings to the entire group.\n",
        "\n",
        "- Non-Random Sampling (Non-Probability Sampling):\n",
        "- Definition:\n",
        "The selection of participants is not based on random chance, but on other factors like convenience, judgment, or specific criteria set by the researcher.\n",
        "- Selection:\n",
        "Researchers choose participants based on their own judgment, convenience, or specific characteristics.\n",
        "- Goal:\n",
        "To obtain a sample that is practical and accessible, often used for exploratory studies or when random sampling is not feasible."
      ],
      "metadata": {
        "id": "4q-Z7KLPtreS"
      }
    },
    {
      "cell_type": "markdown",
      "source": [
        "8. Define and give examples of qualitative and quantitative data?\n",
        "\n",
        "Ans: 1. Qualitative Data:\n",
        "- Definition:\n",
        "Qualitative data focuses on descriptive variables that cannot be measured or assigned a numeric value.\n",
        "- Examples:\n",
        "- Descriptive attributes: The color of a car (e.g., red, blue, green), the type of fruit (e.g., apple, banana, orange), or someone's opinion on a topic.\n",
        "- Observations: Describing the behavior of a group of people in a room, or the details of a scene.\n",
        "- Open-ended survey responses: Answers to questions like \"What are your thoughts on this product?\" or \"Describe your experience with our service?\".\n",
        "- Interviews and focus groups: Transcripts of conversations that capture people's perspectives and experiences.\n",
        "- Social media comments: The text content of posts and comments.\n",
        "- Sensors: Data from sensors that capture qualitative information like the type of object detected.\n",
        "2. Quantitative Data:\n",
        "- Definition:\n",
        "Quantitative data is data that can be counted or measured in numerical values.\n",
        "- Examples:\n",
        "- Measurements: Height in centimeters, weight in kilograms, temperature in Celsius, or the number of people in a room.\n",
        "- Counts: The number of students in a class, the number of cars passing a certain point, or the number of clicks on a website.\n",
        "- Numerical survey responses: Responses to questions like \"How many hours do you work per week?\" or \"What is your age?\".\n",
        "- Test scores: Numerical results from exams or assessments.\n",
        "- Website traffic data: The number of page views, unique visitors, or time spent on a website.\n",
        "- Financial data: Sales figures, expenses, or profits."
      ],
      "metadata": {
        "id": "mZC5CF3WtrbY"
      }
    },
    {
      "cell_type": "markdown",
      "source": [
        "9. What are the different types of data in statistics?\n",
        "\n",
        "Ans:\n",
        "1. Qualitative Data:\n",
        "- Definition:\n",
        "Qualitative data focuses on descriptive variables that cannot be measured or assigned a numeric value.\n",
        "- Examples:\n",
        "- Descriptive attributes: The color of a car (e.g., red, blue, green), the type of fruit (e.g., apple, banana, orange), or someone's opinion on a topic.\n",
        "- Observations: Describing the behavior of a group of people in a room, or the details of a scene.\n",
        "- Open-ended survey responses: Answers to questions like \"What are your thoughts on this product?\" or \"Describe your experience with our service?\".\n",
        "- Interviews and focus groups: Transcripts of conversations that capture people's perspectives and experiences.\n",
        "- Social media comments: The text content of posts and comments.\n",
        "- Sensors: Data from sensors that capture qualitative information like the type of object detected.\n",
        "2. Quantitative Data:\n",
        "- Definition:\n",
        "Quantitative data is data that can be counted or measured in numerical values.\n",
        "- Examples:\n",
        "- Measurements: Height in centimeters, weight in kilograms, temperature in Celsius, or the number of people in a room.\n",
        "- Counts: The number of students in a class, the number of cars passing a certain point, or the number of clicks on a website.\n",
        "- Numerical survey responses: Responses to questions like \"How many hours do you work per week?\" or \"What is your age?\".\n",
        "- Test scores: Numerical results from exams or assessments.\n",
        "- Website traffic data: The number of page views, unique visitors, or time spent on a website.\n",
        "- Financial data: Sales figures, expenses, or profits."
      ],
      "metadata": {
        "id": "on319k97trYu"
      }
    },
    {
      "cell_type": "markdown",
      "source": [
        "10.  Explain nominal, ordinal, interval, and ratio levels of measurement?\n",
        "\n",
        "Ans:  \n",
        "1. Nominal:\n",
        "Data is categorized without any inherent order or ranking. Examples include gender (male/female), types of fruits, or colors.\n",
        "2. Ordinal:\n",
        "Data can be categorized and ranked, but the difference between categories may not be equal. Examples include survey responses (strongly agree, agree, neutral, disagree, strongly disagree) or rankings in a competition.\n",
        "3. Interval:\n",
        "Data can be categorized, ranked, and the difference between values is meaningful and equal, but there's no true zero point. Examples include temperature in Celsius or Fahrenheit, or calendar dates.\n",
        "4. Ratio:\n",
        "Data can be categorized, ranked, the difference between values is meaningful and equal, and there's a true zero point (meaning zero represents the absence of the quantity). Examples include height, weight, or income."
      ],
      "metadata": {
        "id": "bnjw_mi4trWB"
      }
    },
    {
      "cell_type": "markdown",
      "source": [
        "11. What is the measure of central tendency?\n",
        "\n",
        "Ans: The 3 most common measures of central tendency are the mean, median and mode. The mode is the most frequent value. The median is the middle number in an ordered data set. The mean is the sum of all values divided by the total number of values"
      ],
      "metadata": {
        "id": "O9e9Vq30trTc"
      }
    },
    {
      "cell_type": "markdown",
      "source": [
        "12.  Define mean, median, and mode?\n",
        "\n",
        "Ans:\n",
        "1. Mean\n",
        "The most commonly used average\n",
        "Calculated by adding all the numbers in a set and dividing by the total number of numbers\n",
        "2. Median\n",
        "The middle value in a set of numbers ordered from smallest to largest\n",
        "If there are two middle numbers, the median is the average of those two numbers\n",
        "3. Mode\n",
        "The value that occurs most often in a set of numbers\n",
        "A data set can have one or more modes"
      ],
      "metadata": {
        "id": "8ynP12_OtrQ0"
      }
    },
    {
      "cell_type": "markdown",
      "source": [
        "13. What is the significance of the measure of central tendency?\n",
        "\n",
        "Ans:\n",
        "1. Data Summarization: They condense large datasets into a single, easily interpretable value, making it easier to grasp the overall characteristics of the data.\n",
        "2. Comparison: They facilitate comparisons between different datasets or groups, allowing researchers to identify patterns and trends.\n",
        "3. Decision-Making: They provide a foundation for making informed decisions based on data analysis, for example, understanding average salaries or typical property values.\n",
        "4. Identifying Outliers: They can help detect outliers or extreme values that might be skewing the data, which can be crucial for identifying errors or understanding underlying patterns.\n",
        "5. Describing Data: They provide a concise description of the main features of a dataset."
      ],
      "metadata": {
        "id": "orvpGscxtrOK"
      }
    },
    {
      "cell_type": "markdown",
      "source": [
        "14. What is variance, and how is it calculated ?\n",
        "\n",
        "Ans:Variance is a measure of dispersion, indicating how much the individual data points in a set deviate from the mean.\n",
        "A higher variance means the data points are more spread out, while a lower variance means they are clustered closer to the mean.\n",
        "It's often used alongside standard deviation, which is simply the square root of the variance.\n",
        "- How to Calculate Variance:\n",
        "1. Calculate the Mean: Sum all the data points and divide by the total number of data points.\n",
        "2. Find the Differences from the Mean: Subtract the mean from each data point.\n",
        "3. Square the Differences: Square each of the differences calculated in the previous step.\n",
        "4. Calculate the Average of the Squared Differences: Add up all the squared differences and divide by the total number of data points (for population variance) or (total number of data points - 1) (for sample variance).\n",
        "5. Population Variance: (Sum of squared differences) / N\n",
        "6. Sample Variance: (Sum of squared differences) / (N-1)"
      ],
      "metadata": {
        "id": "ta0uSuk7trLb"
      }
    },
    {
      "cell_type": "markdown",
      "source": [
        "15. What is standard deviation, and why is it important ?\n",
        "\n",
        "Ans: Standard deviation is a measure of how spread out data points are from the mean (average) in a dataset, with a low standard deviation indicating data points are clustered tightly and a high standard deviation indicating they are more dispersed. It's important because it helps understand the variability of data and is used in various fields like statistics, finance, and quality control\n",
        "\n",
        "- Data Analysis: It helps understand the variability of a dataset, identify trends, assess data reliability, and detect outliers.\n",
        "- Finance: Used to assess risk; a volatile stock has a high standard deviation, while a stable stock has a low one.\n",
        "- Quality Control: Helps monitor the consistency of products; a large standard deviation in product dimensions indicates inconsistency.\n",
        "- Statistical Inference: Used in hypothesis testing and determining the significance of differences between groups.\n",
        "- Clinical Significance: Using SD allows for a quick overview of a population that is distributed along a normal (Gaussian) pattern."
      ],
      "metadata": {
        "id": "bCNz9466trIe"
      }
    },
    {
      "cell_type": "markdown",
      "source": [
        "16. Define and explain the term range in statistics?\n",
        "\n",
        "Ans: In statistics, the range is a simple measure of variability, defined as the difference between the highest and lowest values in a dataset.\n",
        "1. Definition:\n",
        "The range is calculated by subtracting the smallest value (minimum) from the largest value (maximum) in a dataset.\n",
        "2. Formula: Range = Maximum Value - Minimum Value.\n",
        "3. Example:\n",
        "If a dataset contains the values {2, 5, 8, 10, 3}, the highest value is 10 and the lowest value is 2, so the range is 10 - 2 = 8."
      ],
      "metadata": {
        "id": "I7kEZ-_JtrFm"
      }
    },
    {
      "cell_type": "markdown",
      "source": [
        "17. What is the difference between variance and standard deviation?\n",
        "\n",
        "Ans:\n",
        "1. Variation:\n",
        "- General Meaning: Variation encompasses any change or difference, often referring to a natural or expected range of differences.\n",
        "- Examples:\n",
        "1. \"There is a wide variation in the prices of different brands of coffee.\"\n",
        "\n",
        "2. \"Genetic variation within a species allows for adaptation to changing environments.\"\n",
        "\n",
        "3. \"The survey found a wide variation in the prices charged for canteen food.\"\n",
        "\n",
        "- Synonyms: Variety, change, difference\n",
        "2. Deviation:\n",
        "- General Meaning: Deviation specifically means a departure or straying from a standard, norm, or expected path.\n",
        "- Examples:\n",
        "1. \"Having juice instead of coffee was a deviation from his usual routine.\"\n",
        "2. \"The pattern's deviation from the norm is significant.\"\n",
        "Synonyms: Departure, departure from, straying"
      ],
      "metadata": {
        "id": "PKvxSfydtrC6"
      }
    },
    {
      "cell_type": "markdown",
      "source": [
        "18. What is skewness in a dataset?\n",
        "\n",
        "Ans: Skewness in a dataset is a statistical measure that describes the asymmetry or lack of symmetry in the distribution of data around its mean. It indicates whether the data points tend to be concentrated on one side of the mean (positive or negative skew) or if the distribution is roughly symmetrical (zero skew)."
      ],
      "metadata": {
        "id": "bXqTbGh6trAU"
      }
    },
    {
      "cell_type": "markdown",
      "source": [
        "19.  What does it mean if a dataset is positively or negatively skewed?\n",
        "\n",
        "Ans:\n",
        "\n",
        "1. Positively Skewed (Right Skewed):\n",
        "- The tail of the distribution extends towards the positive (right) side.\n",
        "- Most values are concentrated on the left side of the distribution.\n",
        "- The mean is typically greater than the median, and the median is greater than the mode.\n",
        "- Examples include income distributions (where a few very high earners skew the average) or exam scores (where most students score lower, but a few score much higher).\n",
        "2. Negatively Skewed (Left Skewed):\n",
        "- The tail of the distribution extends towards the negative (left) side.\n",
        "- Most values are concentrated on the right side of the distribution.\n",
        "- The mean is typically less than the median, and the median is less than the mode.\n",
        "- Examples include distributions of test scores where most students score high, but a few score much lower."
      ],
      "metadata": {
        "id": "8--xgczxtq9h"
      }
    },
    {
      "cell_type": "markdown",
      "source": [
        "20. Define and explain kurtosis?\n",
        "\n",
        "Ans: Kurtosis is a measure of the tailedness of a distribution. Tailedness is how often outliers occur. Excess kurtosis is the tailedness of a distribution relative to a normal distribution. Distributions with medium kurtosis (medium tails) are mesokurtic. Distributions with low kurtosis (thin tails) are platykurtic."
      ],
      "metadata": {
        "id": "X7FbWcvftq60"
      }
    },
    {
      "cell_type": "markdown",
      "source": [
        "21. What is the purpose of covariance?\n",
        "\n",
        "Ans:\n",
        "Applications:\n",
        "- Covariance is used in various fields, including:\n",
        "1. Finance: To understand how different assets move together and to assess portfolio risk.\n",
        "2. Statistics: To analyze data and identify relationships between variables.\n",
        "3. Data Analysis: To understand how multiple variables change together.\n"
      ],
      "metadata": {
        "id": "TE8l5S28tq4N"
      }
    },
    {
      "cell_type": "markdown",
      "source": [
        "22.  What does correlation measure in statistics?\n",
        "\n",
        "Ans: In statistics, correlation measures the strength and direction of the relationship between two variables, indicating whether they tend to change together (positive correlation), in opposite directions (negative correlation), or if there's no relationship (zero correlation).\n",
        "- Types of Correlation:\n",
        "1. Pearson correlation: Measures the strength of a linear relationship between two continuous variables.\n",
        "2. Spearman correlation: Measures the strength of a monotonic relationship (where the relationship is consistently increasing or decreasing) between two variables, even if the relationship isn't linear."
      ],
      "metadata": {
        "id": "FuPIMaCLtq1x"
      }
    },
    {
      "cell_type": "markdown",
      "source": [
        "23. What is the difference between covariance and correlation?\n",
        "\n",
        "Ans:\n",
        "1. Covariance:\n",
        "- Definition:\n",
        "Covariance measures how two variables change together. A positive covariance indicates that when one variable increases, the other tends to increase as well, and vice versa. A negative covariance indicates that when one variable increases, the other tends to decrease, and vice versa.\n",
        "- Units:\n",
        "Covariance is not unitless; its units are the product of the units of the two variables being measured.\n",
        "- Magnitude:\n",
        "The magnitude of covariance doesn't directly indicate the strength of the relationship, as it can be influenced by the scale of the variables.\n",
        "- Example:\n",
        "If you measure the covariance between height and weight, a positive covariance would suggest that taller people tend to weigh more, but the magnitude doesn't tell you how strongly height and weight are related.\n",
        "2. Correlation:\n",
        "- Definition:\n",
        "Correlation measures both the direction and strength of the relationship between two variables. It is a standardized measure, meaning it is independent of the scale of the variables.\n",
        "- Units:\n",
        "Correlation is unitless.\n",
        "- Magnitude:\n",
        "Correlation values range from -1 to +1. A value of +1 indicates a perfect positive linear relationship, -1 indicates a perfect negative linear relationship, and 0 indicates no linear relationship.\n",
        "- Example:\n",
        "If the correlation between height and weight is +0.8, it indicates a strong positive linear relationship, meaning that as height increases, weight tends to increase as well, and the strength of the relationship is relatively high."
      ],
      "metadata": {
        "id": "ee3NViLdtqzD"
      }
    },
    {
      "cell_type": "markdown",
      "source": [
        "24. What are some real-world applications of statistics?\n",
        "\n",
        "Ans:\n",
        "1. Business and Finance:\n",
        "- Market Research:\n",
        "Statistics help businesses understand consumer behavior, identify target markets, and predict demand.\n",
        "- Financial Forecasting:\n",
        "Statistical models are used to predict market trends, assess investment risks, and manage financial resources.\n",
        "- Quality Control:\n",
        "Businesses use statistical methods to monitor production processes, identify defects, and ensure product quality.\n",
        "- Risk Management:\n",
        "Statistics are used to assess and mitigate various risks, such as financial, operational, and environmental risks.\n",
        "2. Healthcare:\n",
        "- Clinical Trials:\n",
        "Statistics are crucial for analyzing data from clinical trials, determining the effectiveness of treatments, and ensuring patient safety.\n",
        "- Epidemiology:\n",
        "Statistical methods are used to study the distribution and causes of diseases in populations, helping to develop public health interventions.\n",
        "- Healthcare Analytics:\n",
        "Statistics are used to improve patient care, streamline operations, and optimize resource allocation.\n",
        "3. Politics and Social Sciences:\n",
        "- Polling and Elections:\n",
        "Statistics are used to conduct surveys, analyze public opinion, and predict election outcomes.\n",
        "- Social Research:\n",
        "Statistical methods are used to study social phenomena, understand trends, and inform policy decisions.\n",
        "- Everyday Life:\n",
        "4. Budgeting:\n",
        "Statistics can help individuals plan their finances, track expenses, and make informed spending decisions.\n",
        "- Travel Planning:\n",
        "Statistics can help determine the best routes, find the cheapest prices, and plan activities.\n",
        "- Weather Forecasting:\n",
        "Statistical models are used to predict weather patterns and assess the likelihood of extreme weather events.\n",
        "- Sports:\n",
        "Statistics are used to track player performance, analyze game strategies, and predict outcomes.\n",
        "- Machine Learning:\n",
        "Statistics are the foundation of many machine learning algorithms, which are used in a wide variety of applications, from recommendation systems to image recognition."
      ],
      "metadata": {
        "id": "t8jpE-hJtqwa"
      }
    },
    {
      "cell_type": "markdown",
      "source": [
        "# Practical Questions"
      ],
      "metadata": {
        "id": "6-0eJqk_yNT-"
      }
    },
    {
      "cell_type": "markdown",
      "source": [
        "1. How do you calculate the mean, median, and mode of a dataset."
      ],
      "metadata": {
        "id": "DbRI25uoyROg"
      }
    },
    {
      "cell_type": "code",
      "source": [
        "import numpy as np\n",
        "import pandas as pd\n",
        "import statistics\n",
        "\n",
        "df=pd.read_csv(\"titanic (1).csv\")\n",
        "m=df['Fare'].mean()\n",
        "print(\"Mean: \",m)\n",
        "m1=df['Fare'].median()\n",
        "print(\"Median: \",m1)\n",
        "m2= int(statistics.mode(df['Fare']))\n",
        "print(\"Mode: \",m2)"
      ],
      "metadata": {
        "id": "7lj8osojyU56",
        "colab": {
          "base_uri": "https://localhost:8080/"
        },
        "outputId": "ac808336-5885-4939-c7b3-7c464f1a626f"
      },
      "execution_count": null,
      "outputs": [
        {
          "output_type": "stream",
          "name": "stdout",
          "text": [
            "Mean:  32.204207968574636\n",
            "Median:  14.4542\n",
            "Mode:  8\n"
          ]
        }
      ]
    },
    {
      "cell_type": "markdown",
      "source": [
        "2. Write a Python program to compute the variance and standard deviation of a dataset."
      ],
      "metadata": {
        "id": "hrGCf3JBS00w"
      }
    },
    {
      "cell_type": "code",
      "source": [
        "m3=df['Fare'].std()\n",
        "print(\"Standard Deviation: \",m3)\n",
        "m4=df['Fare'].var()\n",
        "print(\"Variance: \",m4)"
      ],
      "metadata": {
        "colab": {
          "base_uri": "https://localhost:8080/"
        },
        "id": "cpvDr1ArRCGK",
        "outputId": "2243f780-cc6b-4094-c06e-000cbec1709b"
      },
      "execution_count": null,
      "outputs": [
        {
          "output_type": "stream",
          "name": "stdout",
          "text": [
            "Standard Deviation:  49.693428597180905\n",
            "Variance:  2469.436845743117\n"
          ]
        }
      ]
    },
    {
      "cell_type": "markdown",
      "source": [
        "3. Create a dataset and classify it into nominal, ordinal, interval, and ratio types."
      ],
      "metadata": {
        "id": "XO0bziS8S1Sw"
      }
    },
    {
      "cell_type": "code",
      "source": [
        "import pandas as pd\n",
        "\n",
        "# Sample DataFrame\n",
        "data = {'Gender': ['Male', 'Female', 'Male', 'Female'],\n",
        "        'Education': ['High School', 'Bachelor\\'s', 'Master\\'s', 'Bachelor\\'s'],\n",
        "        'Temperature': [20, 25, 15, 30],\n",
        "        'Height': [170, 160, 180, 175]}\n",
        "\n",
        "df = pd.DataFrame(data)\n",
        "\n",
        "# Classify data types\n",
        "print(\"Gender:\", df['Gender'].dtype)  # Nominal\n",
        "print(\"Education:\", df['Education'].dtype)  # Ordinal\n",
        "print(\"Temperature:\", df['Temperature'].dtype)  # Interval\n",
        "print(\"Height:\", df['Height'].dtype)  # Ratio"
      ],
      "metadata": {
        "id": "9gfqGOi4S1mo",
        "colab": {
          "base_uri": "https://localhost:8080/"
        },
        "outputId": "63bbda2c-1ca0-495b-a8ca-c59ff5248be7"
      },
      "execution_count": 39,
      "outputs": [
        {
          "output_type": "stream",
          "name": "stdout",
          "text": [
            "Gender: object\n",
            "Education: object\n",
            "Temperature: int64\n",
            "Height: int64\n"
          ]
        }
      ]
    },
    {
      "cell_type": "markdown",
      "source": [
        "4. Implement sampling techniques like random sampling and stratified sampling"
      ],
      "metadata": {
        "id": "9Q0ruAjAS10g"
      }
    },
    {
      "cell_type": "code",
      "source": [
        "#importing the random module\n",
        "import random\n",
        "#defining the population from where sample will be created\n",
        "population = list(range(1, 100))\n",
        "#defining the size of sample\n",
        "sample_size = 10\n",
        "#perform simple random sampling by using the random.sample() function\n",
        "sample = random.sample(population, sample_size)\n",
        "#it will print 10 random numbers within the range provided\n",
        "print(\"Simple random sampling of 10 numbers are: \", sample)\n",
        "\n",
        "\n",
        "import pandas as pd\n",
        "from sklearn.model_selection import train_test_split\n",
        "\n",
        "# Load the data into a Pandas DataFrame\n",
        "data=pd.read_csv(\"https://raw.githubusercontent.com/ayan-zz/Statistics_python/main/titanic.csv\")\n",
        "\n",
        "# Specify the stratification variable\n",
        "stratify_by = 'Sex'\n",
        "\n",
        "# Split the data into training and testing sets, with stratification\n",
        "train, test = train_test_split(data, test_size=0.3, stratify=data[stratify_by])\n",
        "\n",
        "# Check the distribution of the stratification variable in the training and testing sets\n",
        "print(\"Train dataset:\\n\", train[stratify_by].value_counts())\n",
        "print(\"Test dataset:\\n\", test[stratify_by].value_counts())\n"
      ],
      "metadata": {
        "id": "1-kGyEtkS2NA",
        "colab": {
          "base_uri": "https://localhost:8080/"
        },
        "outputId": "c8c2ad8c-4c94-4da8-fbe1-8441700ee6d0"
      },
      "execution_count": 1,
      "outputs": [
        {
          "output_type": "stream",
          "name": "stdout",
          "text": [
            "Simple random sampling of 10 numbers are:  [76, 50, 16, 36, 64, 51, 47, 52, 98, 21]\n",
            "Train dataset:\n",
            " Sex\n",
            "male      403\n",
            "female    220\n",
            "Name: count, dtype: int64\n",
            "Test dataset:\n",
            " Sex\n",
            "male      174\n",
            "female     94\n",
            "Name: count, dtype: int64\n"
          ]
        }
      ]
    },
    {
      "cell_type": "markdown",
      "source": [
        "5. Write a Python function to calculate the range of a dataset"
      ],
      "metadata": {
        "id": "0E7bwy3mS2uA"
      }
    },
    {
      "cell_type": "code",
      "source": [
        "def minmax(val_list):\n",
        "    min_val = min(val_list)\n",
        "    max_val = max(val_list)\n",
        "\n",
        "    return (min_val, max_val)\n",
        "minmax ([1,3,4,463,2,3,6,8,9,4,254,6,72])"
      ],
      "metadata": {
        "id": "PFIhIXM_S284",
        "colab": {
          "base_uri": "https://localhost:8080/"
        },
        "outputId": "28f41a17-4647-456e-f351-a294c71529bc"
      },
      "execution_count": 38,
      "outputs": [
        {
          "output_type": "execute_result",
          "data": {
            "text/plain": [
              "(1, 463)"
            ]
          },
          "metadata": {},
          "execution_count": 38
        }
      ]
    },
    {
      "cell_type": "markdown",
      "source": [
        "6. Create a dataset and plot its histogram to visualize skewness"
      ],
      "metadata": {
        "id": "ZNjA6mxES3LI"
      }
    },
    {
      "cell_type": "code",
      "source": [
        "   import numpy as np\n",
        "   import matplotlib.pyplot as plt\n",
        "\n",
        "   # Create a dataset with a positive skew\n",
        "   data = np.concatenate([np.random.normal(loc=5, scale=1, size=50), np.random.exponential(scale=2, size=50)])\n",
        "\n",
        "      # Plot the histogram\n",
        "   plt.hist(data, bins=20, color='skyblue', edgecolor='black')\n",
        "\n",
        "   # Add labels and title\n",
        "   plt.xlabel('Value')\n",
        "   plt.ylabel('Frequency')\n",
        "   plt.title('Histogram of Skewed Data')\n",
        "\n",
        "   # Display the plot\n",
        "   plt.show()"
      ],
      "metadata": {
        "id": "BWM_bYFsS3fX",
        "colab": {
          "base_uri": "https://localhost:8080/",
          "height": 472
        },
        "outputId": "7a5dfdf9-5d75-48a3-8c17-87dd9134d80e"
      },
      "execution_count": 2,
      "outputs": [
        {
          "output_type": "display_data",
          "data": {
            "text/plain": [
              "<Figure size 640x480 with 1 Axes>"
            ],
            "image/png": "[encoded data removed]"
          },
          "metadata": {}
        }
      ]
    },
    {
      "cell_type": "markdown",
      "source": [
        "7. Calculate skewness and kurtosis of a dataset using Python libraries"
      ],
      "metadata": {
        "id": "Yy_bpaBkS32g"
      }
    },
    {
      "cell_type": "code",
      "source": [
        "# Importing scipy\n",
        "import scipy\n",
        "from scipy.stats import skew\n",
        "\n",
        "# Creating a dataset\n",
        "dataset = [88, 85, 82, 97, 67, 77, 74, 86,\n",
        "           81, 95, 77, 88, 85, 76, 81]\n",
        "\n",
        "# Calculate the skewness\n",
        "print(\"skewness: \",skew(dataset, axis=0, bias=True))\n",
        "# Importing library\n",
        "\n",
        "from scipy.stats import kurtosis\n",
        "\n",
        "# Creating a dataset\n",
        "dataset = [88, 85, 82, 97, 67, 77, 74, 86,\n",
        "           81, 95, 77, 88, 85, 76, 81]\n",
        "\n",
        "\n",
        "# Calculate the kurtosis\n",
        "print(\"kurtosis: \", kurtosis(dataset, axis=0, bias=True))"
      ],
      "metadata": {
        "id": "AI3shJ6PS4NX",
        "colab": {
          "base_uri": "https://localhost:8080/"
        },
        "outputId": "bccdec80-8e90-4bbb-eeb6-39d1f883d121"
      },
      "execution_count": 5,
      "outputs": [
        {
          "output_type": "stream",
          "name": "stdout",
          "text": [
            "skewness:  0.029331688766181797\n",
            "kurtosis:  -0.29271198374234686\n"
          ]
        }
      ]
    },
    {
      "cell_type": "markdown",
      "source": [
        "8. Generate a dataset and demonstrate positive and negative skewness"
      ],
      "metadata": {
        "id": "FJDl5ShsS4ng"
      }
    },
    {
      "cell_type": "code",
      "source": [
        "   import numpy as np\n",
        "   import matplotlib.pyplot as plt\n",
        "\n",
        "   # Create a dataset with a positive skew\n",
        "   data = np.concatenate([np.random.normal(loc=5, scale=1, size=50), np.random.exponential(scale=2, size=50)])\n",
        "\n",
        "      # Plot the histogram\n",
        "   plt.hist(data, bins=20, color='skyblue', edgecolor='black')\n",
        "\n",
        "   # Add labels and title\n",
        "   plt.xlabel('Value')\n",
        "   plt.ylabel('Frequency')\n",
        "   plt.title('Histogram of Skewed Data')\n",
        "\n",
        "   # Display the plot\n",
        "   plt.show()"
      ],
      "metadata": {
        "id": "ol6VyQniS42g",
        "colab": {
          "base_uri": "https://localhost:8080/",
          "height": 480
        },
        "outputId": "e9493eb3-5719-498c-8748-ab94b8d1ae80"
      },
      "execution_count": 33,
      "outputs": [
        {
          "output_type": "display_data",
          "data": {
            "text/plain": [
              "<Figure size 640x480 with 1 Axes>"
            ],
            "image/png": "[encoded data removed]"
          },
          "metadata": {}
        }
      ]
    },
    {
      "cell_type": "markdown",
      "source": [
        "9. Write a Python script to calculate covariance between two datasets"
      ],
      "metadata": {
        "id": "BsV0CYvuS5EQ"
      }
    },
    {
      "cell_type": "code",
      "source": [
        "import numpy as np\n",
        "Sample_data = np.array([[11,20,35],[40,58,64],[71,87,96]])\n",
        "\n",
        "print(\"This is Sample array:\",\"\\n\",Sample_data)\n",
        "print(\"The Covariance of Sample data:\",\"\\n\",np.cov(Sample_data))"
      ],
      "metadata": {
        "id": "7OMiXFfUS5nw",
        "colab": {
          "base_uri": "https://localhost:8080/"
        },
        "outputId": "0d493824-19cf-4b8b-ec40-4d09c7b2a90c"
      },
      "execution_count": 6,
      "outputs": [
        {
          "output_type": "stream",
          "name": "stdout",
          "text": [
            "This is Sample array: \n",
            " [[11 20 35]\n",
            " [40 58 64]\n",
            " [71 87 96]]\n",
            "The Covariance of Sample data: \n",
            " [[147.         138.         146.5       ]\n",
            " [138.         156.         157.        ]\n",
            " [146.5        157.         160.33333333]]\n"
          ]
        }
      ]
    },
    {
      "cell_type": "markdown",
      "source": [
        "10. Write a Python script to calculate the correlation coefficient between two datasets"
      ],
      "metadata": {
        "id": "Cs1u3inXTDhX"
      }
    },
    {
      "cell_type": "code",
      "source": [
        "import numpy as np\n",
        "x = np.arange(10, 20)\n",
        "y = np.array([2, 1, 4, 5, 8, 12, 18, 25, 96, 48])\n",
        "r = np.corrcoef(x, y)\n",
        "r"
      ],
      "metadata": {
        "id": "Bv1FYTefTEuf",
        "colab": {
          "base_uri": "https://localhost:8080/"
        },
        "outputId": "aaae3594-a931-4e76-e827-4018c1b652ab"
      },
      "execution_count": 7,
      "outputs": [
        {
          "output_type": "execute_result",
          "data": {
            "text/plain": [
              "array([[1.        , 0.75864029],\n",
              "       [0.75864029, 1.        ]])"
            ]
          },
          "metadata": {},
          "execution_count": 7
        }
      ]
    },
    {
      "cell_type": "markdown",
      "source": [
        "11.  Create a scatter plot to visualize the relationship between two variables"
      ],
      "metadata": {
        "id": "_L7lGYDkTFEo"
      }
    },
    {
      "cell_type": "code",
      "source": [
        "import seaborn as sns\n",
        "tips = sns.load_dataset(\"tips\")\n",
        "sns.scatterplot(data=tips, x=\"total_bill\", y=\"tip\", hue=\"time\")"
      ],
      "metadata": {
        "id": "KlDeAhqQTGHY",
        "colab": {
          "base_uri": "https://localhost:8080/",
          "height": 467
        },
        "outputId": "ecd6b668-c67f-4654-b64f-bebb8c760b6b"
      },
      "execution_count": 8,
      "outputs": [
        {
          "output_type": "execute_result",
          "data": {
            "text/plain": [
              "<Axes: xlabel='total_bill', ylabel='tip'>"
            ]
          },
          "metadata": {},
          "execution_count": 8
        },
        {
          "output_type": "display_data",
          "data": {
            "text/plain": [
              "<Figure size 640x480 with 1 Axes>"
            ],
            "image/png": "[encoded data removed]"
          },
          "metadata": {}
        }
      ]
    },
    {
      "cell_type": "markdown",
      "source": [
        "12.  Implement and compare simple random sampling and systematic sampling"
      ],
      "metadata": {
        "id": "hpST6OpaTGXn"
      }
    },
    {
      "cell_type": "code",
      "source": [
        "import numpy as np\n",
        "\n",
        "# Define the population\n",
        "population = np.arange(1, 100)\n",
        "\n",
        "# Define the sample size and sampling interval\n",
        "# We can provide sample size and sampling interval as per user\n",
        "# Here sampling interval is 9 (99//10 = 9)\n",
        "\n",
        "sample_size = 10\n",
        "sampling_interval = len(population) // sample_size\n",
        "start_point = np.random.randint(0, sampling_interval)\n",
        "\n",
        "# Perform systematic sampling\n",
        "sample = population[start_point::sampling_interval]\n",
        "print(\"Systematic or interval sampling of 10 numbers are: \",sample)\n",
        "\n",
        "#importing the random module\n",
        "import random\n",
        "population = list(range(1, 100))\n",
        "sample_size = 10\n",
        "sample = random.sample(population, sample_size)\n",
        "print(\"Simple random sampling of 10 numbers are: \", sample)\n"
      ],
      "metadata": {
        "id": "a1aZ8x0LTHUX",
        "colab": {
          "base_uri": "https://localhost:8080/"
        },
        "outputId": "cf429e3e-ef0c-4d01-954d-da1eb0bfc6bc"
      },
      "execution_count": 9,
      "outputs": [
        {
          "output_type": "stream",
          "name": "stdout",
          "text": [
            "Systematic or interval sampling of 10 numbers are:  [ 5 14 23 32 41 50 59 68 77 86 95]\n",
            "Simple random sampling of 10 numbers are:  [17, 76, 88, 63, 85, 51, 11, 39, 47, 60]\n"
          ]
        }
      ]
    },
    {
      "cell_type": "markdown",
      "source": [
        "13.  Calculate the mean, median, and mode of grouped data"
      ],
      "metadata": {
        "id": "r5Sd1vnXTHlf"
      }
    },
    {
      "cell_type": "code",
      "source": [
        "import statistics\n",
        "\n",
        "def calculate_mean_grouped(data, frequencies):\n",
        "    \"\"\"Calculates the mean of grouped data.\n",
        "    Args:\n",
        "        data: A list of lists, where each inner list represents a group\n",
        "              and contains the lower and upper limits of the interval.\n",
        "        frequencies: A list of frequencies corresponding to each group.\n",
        "    \"\"\"\n",
        "    midpoints = []\n",
        "    for group in data:\n",
        "        midpoints.append((group[0] + group[1]) / 2)\n",
        "\n",
        "    # Multiply each midpoint by its frequency\n",
        "    weighted_values = [midpoint * frequency for midpoint, frequency in zip(midpoints, frequencies)]\n",
        "\n",
        "    # Calculate the mean\n",
        "    total_sum = sum(weighted_values)\n",
        "    total_frequency = sum(frequencies)\n",
        "    return total_sum / total_frequency"
      ],
      "metadata": {
        "id": "NA98OhmGTIcI"
      },
      "execution_count": 40,
      "outputs": []
    },
    {
      "cell_type": "markdown",
      "source": [
        "14. Simulate data using Python and calculate its central tendency and dispersion"
      ],
      "metadata": {
        "id": "I3hkEPvyTIx_"
      }
    },
    {
      "cell_type": "code",
      "source": [
        "import numpy as np\n",
        "data = np.array([17, 12, 34, 65, 23, 43, 15, 27, 32, 56, 16])\n",
        "q1 = np.percentile(data, 25)\n",
        "q3 = np.percentile(data, 75)\n",
        "quartile_deviation = (q3 - q1) / 2\n",
        "print(\"The quartile deviation is\", quartile_deviation)"
      ],
      "metadata": {
        "id": "3Uf7RcspTJo3",
        "colab": {
          "base_uri": "https://localhost:8080/"
        },
        "outputId": "7a4732bb-218f-4518-e10d-0848eecba700"
      },
      "execution_count": 10,
      "outputs": [
        {
          "output_type": "stream",
          "name": "stdout",
          "text": [
            "The quartile deviation is 11.0\n"
          ]
        }
      ]
    },
    {
      "cell_type": "markdown",
      "source": [
        "15. Use NumPy or pandas to summarize a dataset's descriptive statistics"
      ],
      "metadata": {
        "id": "-6cR3Qg4TKGf"
      }
    },
    {
      "cell_type": "code",
      "source": [
        "import pandas as pd\n",
        "\n",
        "# Creating a sample DataFrame\n",
        "data = {'A': [1, 2, 3, 4, 5],\n",
        "        'B': [10, 20, 15, 25, 30]}\n",
        "df = pd.DataFrame(data)\n",
        "\n",
        "# Using describe() to calculate summary statistics\n",
        "res = df.describe()\n",
        "\n",
        "print(res)"
      ],
      "metadata": {
        "id": "fze9ZmxcTKzf",
        "colab": {
          "base_uri": "https://localhost:8080/"
        },
        "outputId": "38ccf417-0cc5-4d44-defc-3ec30eab4c9b"
      },
      "execution_count": 14,
      "outputs": [
        {
          "output_type": "stream",
          "name": "stdout",
          "text": [
            "              A          B\n",
            "count  5.000000   5.000000\n",
            "mean   3.000000  20.000000\n",
            "std    1.581139   7.905694\n",
            "min    1.000000  10.000000\n",
            "25%    2.000000  15.000000\n",
            "50%    3.000000  20.000000\n",
            "75%    4.000000  25.000000\n",
            "max    5.000000  30.000000\n"
          ]
        }
      ]
    },
    {
      "cell_type": "markdown",
      "source": [
        "16. Plot a boxplot to understand the spread and identify outliers"
      ],
      "metadata": {
        "id": "jSjSIdVTTLDP"
      }
    },
    {
      "cell_type": "code",
      "source": [
        "# Adding libraries\n",
        "import numpy as np\n",
        "import pandas as pd\n",
        "import matplotlib.pyplot as plt\n",
        "\n",
        "# random integers between 1 to 20\n",
        "arr = np.random.randint(1, 20, size=30)\n",
        "\n",
        "# two outliers taken\n",
        "arr1 = np.append(arr, [27, 30])\n",
        "\n",
        "print('Thus the array becomes{}'.format(arr1))\n",
        "\n",
        "\n",
        "\n",
        "\n",
        "plt.boxplot(arr1)\n",
        "fig = plt.figure(figsize =(10, 7))\n",
        "plt.show()"
      ],
      "metadata": {
        "id": "qF39UIslTL0v",
        "colab": {
          "base_uri": "https://localhost:8080/",
          "height": 482
        },
        "outputId": "e4bc7067-1111-4de3-cf44-b3687d746f6f"
      },
      "execution_count": 15,
      "outputs": [
        {
          "output_type": "stream",
          "name": "stdout",
          "text": [
            "Thus the array becomes[11 13 15  2 13 11 14 11 13 18 13  2 14 13 12 11  4 12  8  5  2 14  4  3\n",
            " 17  2 15  6 10 12 27 30]\n"
          ]
        },
        {
          "output_type": "display_data",
          "data": {
            "text/plain": [
              "<Figure size 640x480 with 1 Axes>"
            ],
            "image/png": "[encoded data removed]"
          },
          "metadata": {}
        },
        {
          "output_type": "display_data",
          "data": {
            "text/plain": [
              "<Figure size 1000x700 with 0 Axes>"
            ]
          },
          "metadata": {}
        }
      ]
    },
    {
      "cell_type": "markdown",
      "source": [
        "17. Calculate the interquartile range (IQR) of a dataset"
      ],
      "metadata": {
        "id": "fgzTsTemTMSX"
      }
    },
    {
      "cell_type": "code",
      "source": [
        "import numpy as np\n",
        "from scipy import stats\n",
        "\n",
        "# Sample dataset\n",
        "data = [13, 21, 21, 40, 42, 48, 55, 72]\n",
        "\n",
        "# Calculate IQR using scipy\n",
        "iqr = stats.iqr(data)\n",
        "print(f\"The Interquartile Range (IQR) is: {iqr}\")"
      ],
      "metadata": {
        "id": "NVqjA7O-TNKv",
        "colab": {
          "base_uri": "https://localhost:8080/"
        },
        "outputId": "93d614af-7915-4e14-ecfa-12fb244d860a"
      },
      "execution_count": 16,
      "outputs": [
        {
          "output_type": "stream",
          "name": "stdout",
          "text": [
            "The Interquartile Range (IQR) is: 28.75\n"
          ]
        }
      ]
    },
    {
      "cell_type": "markdown",
      "source": [
        "18. Implement Z-score normalization and explain its significance"
      ],
      "metadata": {
        "id": "J0MUtcFHTNYP"
      }
    },
    {
      "cell_type": "code",
      "source": [
        "import pandas as pd\n",
        "import numpy as np\n",
        "import scipy.stats as stats\n",
        "data = np.array([6, 7, 7, 12, 13, 13, 15, 16, 19, 22])\n",
        "stats.zscore(data)"
      ],
      "metadata": {
        "id": "Wp40Gky0TOGA",
        "colab": {
          "base_uri": "https://localhost:8080/"
        },
        "outputId": "dfb5a189-e380-4424-ab27-a4e761cca579"
      },
      "execution_count": 17,
      "outputs": [
        {
          "output_type": "execute_result",
          "data": {
            "text/plain": [
              "array([-1.39443338, -1.19522861, -1.19522861, -0.19920477,  0.        ,\n",
              "        0.        ,  0.39840954,  0.5976143 ,  1.19522861,  1.79284291])"
            ]
          },
          "metadata": {},
          "execution_count": 17
        }
      ]
    },
    {
      "cell_type": "markdown",
      "source": [
        "19. Compare two datasets using their standard deviations"
      ],
      "metadata": {
        "id": "X_1bQeTSTOWf"
      }
    },
    {
      "cell_type": "code",
      "source": [
        "import statistics\n",
        "\n",
        "# Sample datasets (replace with your actual data)\n",
        "dataset1 = [1, 2, 3, 4, 5]\n",
        "dataset2 = [1, 2, 8, 10, 12]\n",
        "\n",
        "# Calculate standard deviations\n",
        "std_dev_dataset1 = statistics.stdev(dataset1)\n",
        "std_dev_dataset2 = statistics.stdev(dataset2)\n",
        "\n",
        "# Print the results\n",
        "print(f\"Standard Deviation of Dataset 1: {std_dev_dataset1}\")\n",
        "print(f\"Standard Deviation of Dataset 2: {std_dev_dataset2}\")\n",
        "\n",
        "# Compare the standard deviations\n",
        "if std_dev_dataset1 > std_dev_dataset2:\n",
        "    print(\"Dataset 1 has more spread/variation.\")\n",
        "elif std_dev_dataset2 > std_dev_dataset1:\n",
        "    print(\"Dataset 2 has more spread/variation.\")\n",
        "else:\n",
        "    print(\"Both datasets have similar spread/variation.\")"
      ],
      "metadata": {
        "id": "Vy5I_Vz8TPNX",
        "colab": {
          "base_uri": "https://localhost:8080/"
        },
        "outputId": "94ca81fd-6a1a-4497-9da6-bfe2d1a8ac3d"
      },
      "execution_count": 18,
      "outputs": [
        {
          "output_type": "stream",
          "name": "stdout",
          "text": [
            "Standard Deviation of Dataset 1: 1.5811388300841898\n",
            "Standard Deviation of Dataset 2: 4.878524367060187\n",
            "Dataset 2 has more spread/variation.\n"
          ]
        }
      ]
    },
    {
      "cell_type": "markdown",
      "source": [
        "20. Write a Python program to visualize covariance using a heatmap"
      ],
      "metadata": {
        "id": "MN95KqWXTPxy"
      }
    },
    {
      "cell_type": "code",
      "source": [
        "# Import necessary modules\n",
        "import matplotlib.pyplot as plt\n",
        "import pandas as pd\n",
        "import seaborn as sns\n",
        "\n",
        "# Load dataset\n",
        "data = pd.read_csv(\"Titanic.csv\")\n",
        "\n",
        "# Compute correlation matrix\n",
        "co_mtx = data.corr(numeric_only=True)\n",
        "\n",
        "# Print correlation matrix\n",
        "print(co_mtx)\n",
        "\n",
        "# Plot correlation heatmap\n",
        "sns.heatmap(co_mtx, cmap=\"YlGnBu\", annot=True)\n",
        "\n",
        "# Display heatmap\n",
        "plt.show()"
      ],
      "metadata": {
        "id": "F4yKIZCQTQfH",
        "colab": {
          "base_uri": "https://localhost:8080/",
          "height": 800
        },
        "outputId": "b80aea3f-bb46-46d5-c02e-d701dcc0d74e"
      },
      "execution_count": 19,
      "outputs": [
        {
          "output_type": "stream",
          "name": "stdout",
          "text": [
            "             PassengerId  Survived    Pclass       Age     SibSp     Parch  \\\n",
            "PassengerId     1.000000 -0.005007 -0.035144  0.036847 -0.057527 -0.001652   \n",
            "Survived       -0.005007  1.000000 -0.338481 -0.077221 -0.035322  0.081629   \n",
            "Pclass         -0.035144 -0.338481  1.000000 -0.369226  0.083081  0.018443   \n",
            "Age             0.036847 -0.077221 -0.369226  1.000000 -0.308247 -0.189119   \n",
            "SibSp          -0.057527 -0.035322  0.083081 -0.308247  1.000000  0.414838   \n",
            "Parch          -0.001652  0.081629  0.018443 -0.189119  0.414838  1.000000   \n",
            "Fare            0.012658  0.257307 -0.549500  0.096067  0.159651  0.216225   \n",
            "\n",
            "                 Fare  \n",
            "PassengerId  0.012658  \n",
            "Survived     0.257307  \n",
            "Pclass      -0.549500  \n",
            "Age          0.096067  \n",
            "SibSp        0.159651  \n",
            "Parch        0.216225  \n",
            "Fare         1.000000  \n"
          ]
        },
        {
          "output_type": "display_data",
          "data": {
            "text/plain": [
              "<Figure size 640x480 with 2 Axes>"
            ],
            "image/png": "[encoded data removed]"
          },
          "metadata": {}
        }
      ]
    },
    {
      "cell_type": "markdown",
      "source": [
        "21.  Use seaborn to create a correlation matrix for a dataset"
      ],
      "metadata": {
        "id": "f2YbSRe2TQvf"
      }
    },
    {
      "cell_type": "code",
      "source": [
        "from string import ascii_letters\n",
        "import numpy as np\n",
        "import pandas as pd\n",
        "import seaborn as sns\n",
        "import matplotlib.pyplot as plt\n",
        "\n",
        "sns.set_theme(style=\"white\")\n",
        "\n",
        "# Generate a large random dataset\n",
        "rs = np.random.RandomState(33)\n",
        "d = pd.DataFrame(data=rs.normal(size=(100, 26)),\n",
        "                 columns=list(ascii_letters[26:]))\n",
        "\n",
        "# Compute the correlation matrix\n",
        "corr = d.corr()\n",
        "\n",
        "# Generate a mask for the upper triangle\n",
        "mask = np.triu(np.ones_like(corr, dtype=bool))\n",
        "\n",
        "# Set up the matplotlib figure\n",
        "f, ax = plt.subplots(figsize=(11, 9))\n",
        "\n",
        "# Generate a custom diverging colormap\n",
        "cmap = sns.diverging_palette(230, 20, as_cmap=True)\n",
        "\n",
        "# Draw the heatmap with the mask and correct aspect ratio\n",
        "sns.heatmap(corr, mask=mask, cmap=cmap, vmax=.3, center=0,\n",
        "            square=True, linewidths=.5, cbar_kws={\"shrink\": .5})"
      ],
      "metadata": {
        "id": "3ebXRbPRTRjH",
        "colab": {
          "base_uri": "https://localhost:8080/",
          "height": 764
        },
        "outputId": "0cdb32b0-ca45-4853-d39b-7835d41c13e6"
      },
      "execution_count": 22,
      "outputs": [
        {
          "output_type": "execute_result",
          "data": {
            "text/plain": [
              "<Axes: >"
            ]
          },
          "metadata": {},
          "execution_count": 22
        },
        {
          "output_type": "display_data",
          "data": {
            "text/plain": [
              "<Figure size 1100x900 with 2 Axes>"
            ],
            "image/png": "[encoded data removed]"
          },
          "metadata": {}
        }
      ]
    },
    {
      "cell_type": "markdown",
      "source": [
        "22. Generate a dataset and implement both variance and standard deviation computations"
      ],
      "metadata": {
        "id": "Vgu60LYoTSEn"
      }
    },
    {
      "cell_type": "code",
      "source": [
        "dataset = [10, 12, 23, 23, 16, 23, 21, 16]\n",
        "\n",
        "# Calculate mean\n",
        "length = len(dataset)\n",
        "mean = sum(dataset) / length\n",
        "\n",
        "# Calculate variance\n",
        "squared_diffs = [(x - mean) ** 2 for x in dataset]\n",
        "variance = sum(squared_diffs) / length\n",
        "print(squared_diffs)\n",
        "print(variance)"
      ],
      "metadata": {
        "id": "eWOHWvV8TSu_",
        "colab": {
          "base_uri": "https://localhost:8080/"
        },
        "outputId": "6dd6f26a-b2fa-4305-9e8e-ea2fdfc28edf"
      },
      "execution_count": 24,
      "outputs": [
        {
          "output_type": "stream",
          "name": "stdout",
          "text": [
            "[64.0, 36.0, 25.0, 25.0, 4.0, 25.0, 9.0, 4.0]\n",
            "24.0\n"
          ]
        }
      ]
    },
    {
      "cell_type": "markdown",
      "source": [
        "23. Visualize skewness and kurtosis using Python libraries like matplotlib or seaborn"
      ],
      "metadata": {
        "id": "5Jkh06Y6TTBP"
      }
    },
    {
      "cell_type": "code",
      "source": [
        "import numpy as np\n",
        "import pandas as pd\n",
        "import seaborn as sns\n",
        "\n",
        "# Example dataset\n",
        "diamonds = sns.load_dataset(\"diamonds\")\n",
        "diamond_prices = diamonds[\"price\"]\n",
        "\n",
        "mean_price = diamond_prices.mean()\n",
        "median_price = diamond_prices.median()\n",
        "std = diamond_prices.std()\n",
        "\n",
        "skewness = (3 * (mean_price - median_price)) / std\n",
        "print(\n",
        "   f\"The Pierson's second skewness score of diamond prices distribution is {skewness:.5f}\"\n",
        ")\n",
        "from scipy.stats import kurtosis\n",
        "\n",
        "kurtosis(diamond_prices)\n",
        "import matplotlib.pyplot as plt\n",
        "\n",
        "sns.kdeplot(diamond_prices)\n",
        "\n",
        "plt.title(\"KDE plot of diamond prices\")\n",
        "plt.xlabel(\"Price ($)\")\n"
      ],
      "metadata": {
        "id": "_5dpdfrDTT8f",
        "colab": {
          "base_uri": "https://localhost:8080/",
          "height": 515
        },
        "outputId": "8fe6f1d1-1e32-4d71-ed5d-98534c9ceb5d"
      },
      "execution_count": 27,
      "outputs": [
        {
          "output_type": "stream",
          "name": "stdout",
          "text": [
            "The Pierson's second skewness score of diamond prices distribution is 1.15189\n"
          ]
        },
        {
          "output_type": "execute_result",
          "data": {
            "text/plain": [
              "Text(0.5, 0, 'Price ($)')"
            ]
          },
          "metadata": {},
          "execution_count": 27
        },
        {
          "output_type": "display_data",
          "data": {
            "text/plain": [
              "<Figure size 640x480 with 1 Axes>"
            ],
            "image/png": "[encoded data removed]"
          },
          "metadata": {}
        }
      ]
    },
    {
      "cell_type": "markdown",
      "source": [
        "24. Implement the Pearson and Spearman correlation coefficients for a dataset."
      ],
      "metadata": {
        "id": "Lwfgc91ZTUMf"
      }
    },
    {
      "cell_type": "code",
      "source": [
        "import pandas as pd\n",
        "from scipy.stats import pearsonr\n",
        "\n",
        "# Import your data into Python\n",
        "df = pd.read_csv(\"Titanic.csv\")\n",
        "\n",
        "# Convert dataframe into series\n",
        "list1 = df['Fare']\n",
        "list2 = df['Pclass']\n",
        "\n",
        "# Apply the pearsonr()\n",
        "corr, _ = pearsonr(list1, list2)\n",
        "print('Pearsons correlation: %.3f' % corr)\n",
        "\n",
        "import pandas as pd\n",
        "\n",
        "# Sample data\n",
        "data = {'Variable1': [2, 3, 5, 7, 9],\n",
        "        'Variable2': [1, 4, 6, 8, 10]}\n",
        "\n",
        "# Create a DataFrame\n",
        "df = pd.DataFrame(data)\n",
        "\n",
        "# Compute Spearman correlation\n",
        "spearman_corr = df.corr(method='spearman').iloc[0, 1]\n",
        "\n",
        "print(\"Spearman correlation coefficient:\", spearman_corr)"
      ],
      "metadata": {
        "id": "dytKrjHDTVHX",
        "colab": {
          "base_uri": "https://localhost:8080/"
        },
        "outputId": "6843f0c5-a5c9-4276-aff3-2034aed9aa60"
      },
      "execution_count": 32,
      "outputs": [
        {
          "output_type": "stream",
          "name": "stdout",
          "text": [
            "Pearsons correlation: -0.549\n",
            "Spearman correlation coefficient: 1.0\n"
          ]
        }
      ]
    }
  ]
}